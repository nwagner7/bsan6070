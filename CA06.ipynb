{
  "nbformat": 4,
  "nbformat_minor": 0,
  "metadata": {
    "colab": {
      "name": "CA06",
      "provenance": [],
      "collapsed_sections": []
    },
    "kernelspec": {
      "name": "python3",
      "display_name": "Python 3"
    },
    "language_info": {
      "name": "python"
    }
  },
  "cells": [
    {
      "cell_type": "markdown",
      "metadata": {
        "id": "_b4GSUui4tRI"
      },
      "source": [
        "# CA06 - kNN based Recommender Engine"
      ]
    },
    {
      "cell_type": "code",
      "metadata": {
        "id": "m-BRQw21524m",
        "colab": {
          "base_uri": "https://localhost:8080/",
          "height": 233
        },
        "outputId": "cf0d6924-7e48-4d35-975a-5f9403d8b225"
      },
      "source": [
        "# Import packages\n",
        "import pandas as pd\n",
        "import numpy as np\n",
        "from sklearn.neighbors import NearestNeighbors\n",
        "# Load dataset\n",
        "movies = pd.read_csv('https://github.com/ArinB/CA05-kNN/raw/master/movies_recommendation_data.csv', index_col='Movie ID')\n",
        "# Preview data\n",
        "movies.head()"
      ],
      "execution_count": 62,
      "outputs": [
        {
          "output_type": "execute_result",
          "data": {
            "text/html": [
              "<div>\n",
              "<style scoped>\n",
              "    .dataframe tbody tr th:only-of-type {\n",
              "        vertical-align: middle;\n",
              "    }\n",
              "\n",
              "    .dataframe tbody tr th {\n",
              "        vertical-align: top;\n",
              "    }\n",
              "\n",
              "    .dataframe thead th {\n",
              "        text-align: right;\n",
              "    }\n",
              "</style>\n",
              "<table border=\"1\" class=\"dataframe\">\n",
              "  <thead>\n",
              "    <tr style=\"text-align: right;\">\n",
              "      <th></th>\n",
              "      <th>Movie Name</th>\n",
              "      <th>IMDB Rating</th>\n",
              "      <th>Biography</th>\n",
              "      <th>Drama</th>\n",
              "      <th>Thriller</th>\n",
              "      <th>Comedy</th>\n",
              "      <th>Crime</th>\n",
              "      <th>Mystery</th>\n",
              "      <th>History</th>\n",
              "      <th>Label</th>\n",
              "    </tr>\n",
              "    <tr>\n",
              "      <th>Movie ID</th>\n",
              "      <th></th>\n",
              "      <th></th>\n",
              "      <th></th>\n",
              "      <th></th>\n",
              "      <th></th>\n",
              "      <th></th>\n",
              "      <th></th>\n",
              "      <th></th>\n",
              "      <th></th>\n",
              "      <th></th>\n",
              "    </tr>\n",
              "  </thead>\n",
              "  <tbody>\n",
              "    <tr>\n",
              "      <th>58</th>\n",
              "      <td>The Imitation Game</td>\n",
              "      <td>8.0</td>\n",
              "      <td>1</td>\n",
              "      <td>1</td>\n",
              "      <td>1</td>\n",
              "      <td>0</td>\n",
              "      <td>0</td>\n",
              "      <td>0</td>\n",
              "      <td>0</td>\n",
              "      <td>0</td>\n",
              "    </tr>\n",
              "    <tr>\n",
              "      <th>8</th>\n",
              "      <td>Ex Machina</td>\n",
              "      <td>7.7</td>\n",
              "      <td>0</td>\n",
              "      <td>1</td>\n",
              "      <td>0</td>\n",
              "      <td>0</td>\n",
              "      <td>0</td>\n",
              "      <td>1</td>\n",
              "      <td>0</td>\n",
              "      <td>0</td>\n",
              "    </tr>\n",
              "    <tr>\n",
              "      <th>46</th>\n",
              "      <td>A Beautiful Mind</td>\n",
              "      <td>8.2</td>\n",
              "      <td>1</td>\n",
              "      <td>1</td>\n",
              "      <td>0</td>\n",
              "      <td>0</td>\n",
              "      <td>0</td>\n",
              "      <td>0</td>\n",
              "      <td>0</td>\n",
              "      <td>0</td>\n",
              "    </tr>\n",
              "    <tr>\n",
              "      <th>62</th>\n",
              "      <td>Good Will Hunting</td>\n",
              "      <td>8.3</td>\n",
              "      <td>0</td>\n",
              "      <td>1</td>\n",
              "      <td>0</td>\n",
              "      <td>0</td>\n",
              "      <td>0</td>\n",
              "      <td>0</td>\n",
              "      <td>0</td>\n",
              "      <td>0</td>\n",
              "    </tr>\n",
              "    <tr>\n",
              "      <th>97</th>\n",
              "      <td>Forrest Gump</td>\n",
              "      <td>8.8</td>\n",
              "      <td>0</td>\n",
              "      <td>1</td>\n",
              "      <td>0</td>\n",
              "      <td>0</td>\n",
              "      <td>0</td>\n",
              "      <td>0</td>\n",
              "      <td>0</td>\n",
              "      <td>0</td>\n",
              "    </tr>\n",
              "  </tbody>\n",
              "</table>\n",
              "</div>"
            ],
            "text/plain": [
              "                  Movie Name  IMDB Rating  Biography  ...  Mystery  History  Label\n",
              "Movie ID                                              ...                         \n",
              "58        The Imitation Game          8.0          1  ...        0        0      0\n",
              "8                 Ex Machina          7.7          0  ...        1        0      0\n",
              "46          A Beautiful Mind          8.2          1  ...        0        0      0\n",
              "62         Good Will Hunting          8.3          0  ...        0        0      0\n",
              "97              Forrest Gump          8.8          0  ...        0        0      0\n",
              "\n",
              "[5 rows x 10 columns]"
            ]
          },
          "metadata": {
            "tags": []
          },
          "execution_count": 62
        }
      ]
    },
    {
      "cell_type": "markdown",
      "metadata": {
        "id": "stfzBrgD7dv5"
      },
      "source": [
        "## Building A Recommender System"
      ]
    },
    {
      "cell_type": "code",
      "metadata": {
        "id": "UT2PSKB-Fw1h"
      },
      "source": [
        "# Add data for \"The Post\"\n",
        "the_post = {'IMDB Rating':[7.2], 'Biography':1, 'Drama':1, 'Thriller':0, 'Comedy':0, 'Crime':0, 'Mystery':0, 'History':1}\n",
        "the_post = pd.DataFrame(data=post_data, index=None)"
      ],
      "execution_count": 63,
      "outputs": []
    },
    {
      "cell_type": "code",
      "metadata": {
        "id": "NOLn68E_AVLc"
      },
      "source": [
        "# Select feature variables \n",
        "feature_cols = movies.drop(['Movie Name','Label'], axis=1)\n",
        "X = feature_cols"
      ],
      "execution_count": 64,
      "outputs": []
    },
    {
      "cell_type": "code",
      "metadata": {
        "id": "RpUvo_fu7_5R"
      },
      "source": [
        "# Find nearest neighbors\n",
        "neighbors = NearestNeighbors(n_neighbors=5, algorithm='brute') # n_neighbors=5 to find 5 most similar movies \n",
        "neighbors.fit(X)\n",
        "distances, indices = neighbors.kneighbors(the_post)"
      ],
      "execution_count": 65,
      "outputs": []
    },
    {
      "cell_type": "code",
      "metadata": {
        "colab": {
          "base_uri": "https://localhost:8080/"
        },
        "id": "EkpYt2NEcq3T",
        "outputId": "f39272c9-c0ea-4219-9f7d-87c16e42edb9"
      },
      "source": [
        "# Find top 5 recommendations\n",
        "print('Top 5 Movie Recommendations for \"The Post\":\\n')\n",
        "for i in range(len(distances.flatten())):\n",
        "  print('{0}. {1}'.format(i+1, movies['Movie Name'].iloc[indices.flatten()[i]],distances.flatten()[i]))"
      ],
      "execution_count": 66,
      "outputs": [
        {
          "output_type": "stream",
          "text": [
            "Top 5 Movie Recommendations for \"The Post\":\n",
            "\n",
            "1. 12 Years a Slave\n",
            "2. Hacksaw Ridge\n",
            "3. Queen of Katwe\n",
            "4. The Wind Rises\n",
            "5. The Karate Kid\n"
          ],
          "name": "stdout"
        }
      ]
    }
  ]
}