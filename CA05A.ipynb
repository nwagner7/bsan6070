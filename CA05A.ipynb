{
  "nbformat": 4,
  "nbformat_minor": 0,
  "metadata": {
    "colab": {
      "name": "CA05A.ipynb",
      "provenance": [],
      "collapsed_sections": []
    },
    "kernelspec": {
      "name": "python3",
      "display_name": "Python 3"
    },
    "language_info": {
      "name": "python"
    }
  },
  "cells": [
    {
      "cell_type": "code",
      "metadata": {
        "id": "cE5Skrp-RPli"
      },
      "source": [
        "# import packages \n",
        "import pandas as pd \n",
        "import numpy as np\n",
        "import matplotlib.pyplot as plt\n",
        "import statsmodels.api as sm\n",
        "from sklearn import metrics\n",
        "from sklearn import linear_model \n",
        "from sklearn.model_selection import train_test_split\n",
        "from sklearn.linear_model import LogisticRegression\n",
        "from sklearn.metrics import accuracy_score, roc_auc_score, recall_score, precision_score, f1_score, confusion_matrix, roc_curve"
      ],
      "execution_count": 2,
      "outputs": []
    },
    {
      "cell_type": "code",
      "metadata": {
        "colab": {
          "base_uri": "https://localhost:8080/",
          "height": 222
        },
        "id": "e-VI65_eRdJp",
        "outputId": "abf02810-b0c8-477c-df70-b75494fe8dfb"
      },
      "source": [
        "# read dataset\n",
        "df = pd.read_csv('https://github.com/ArinB/CA05-B-Logistic-Regression/raw/master/cvd_data.csv',na_values='NA')\n",
        "df.head(5)"
      ],
      "execution_count": 3,
      "outputs": [
        {
          "output_type": "execute_result",
          "data": {
            "text/html": [
              "<div>\n",
              "<style scoped>\n",
              "    .dataframe tbody tr th:only-of-type {\n",
              "        vertical-align: middle;\n",
              "    }\n",
              "\n",
              "    .dataframe tbody tr th {\n",
              "        vertical-align: top;\n",
              "    }\n",
              "\n",
              "    .dataframe thead th {\n",
              "        text-align: right;\n",
              "    }\n",
              "</style>\n",
              "<table border=\"1\" class=\"dataframe\">\n",
              "  <thead>\n",
              "    <tr style=\"text-align: right;\">\n",
              "      <th></th>\n",
              "      <th>cvd_4types</th>\n",
              "      <th>age_s1</th>\n",
              "      <th>race</th>\n",
              "      <th>educat</th>\n",
              "      <th>mstat</th>\n",
              "      <th>hip</th>\n",
              "      <th>neck20</th>\n",
              "      <th>waist</th>\n",
              "      <th>av_weight_kg</th>\n",
              "      <th>cgpkyr</th>\n",
              "      <th>tea15</th>\n",
              "      <th>srhype</th>\n",
              "      <th>parrptdiab</th>\n",
              "      <th>bend25</th>\n",
              "      <th>happy25</th>\n",
              "      <th>tired25</th>\n",
              "      <th>hlthlm25</th>\n",
              "    </tr>\n",
              "  </thead>\n",
              "  <tbody>\n",
              "    <tr>\n",
              "      <th>0</th>\n",
              "      <td>0</td>\n",
              "      <td>54</td>\n",
              "      <td>1</td>\n",
              "      <td>2</td>\n",
              "      <td>1</td>\n",
              "      <td>110.0</td>\n",
              "      <td>40.0</td>\n",
              "      <td>108.0</td>\n",
              "      <td>87.5</td>\n",
              "      <td>34.0</td>\n",
              "      <td>0</td>\n",
              "      <td>1</td>\n",
              "      <td>0</td>\n",
              "      <td>1</td>\n",
              "      <td>2</td>\n",
              "      <td>3</td>\n",
              "      <td>4</td>\n",
              "    </tr>\n",
              "    <tr>\n",
              "      <th>1</th>\n",
              "      <td>0</td>\n",
              "      <td>56</td>\n",
              "      <td>3</td>\n",
              "      <td>2</td>\n",
              "      <td>1</td>\n",
              "      <td>113.0</td>\n",
              "      <td>34.0</td>\n",
              "      <td>107.0</td>\n",
              "      <td>83.5</td>\n",
              "      <td>0.0</td>\n",
              "      <td>0</td>\n",
              "      <td>0</td>\n",
              "      <td>0</td>\n",
              "      <td>2</td>\n",
              "      <td>2</td>\n",
              "      <td>1</td>\n",
              "      <td>3</td>\n",
              "    </tr>\n",
              "    <tr>\n",
              "      <th>2</th>\n",
              "      <td>0</td>\n",
              "      <td>54</td>\n",
              "      <td>1</td>\n",
              "      <td>3</td>\n",
              "      <td>1</td>\n",
              "      <td>110.0</td>\n",
              "      <td>44.5</td>\n",
              "      <td>105.0</td>\n",
              "      <td>86.2</td>\n",
              "      <td>49.5</td>\n",
              "      <td>0</td>\n",
              "      <td>0</td>\n",
              "      <td>0</td>\n",
              "      <td>3</td>\n",
              "      <td>2</td>\n",
              "      <td>6</td>\n",
              "      <td>4</td>\n",
              "    </tr>\n",
              "    <tr>\n",
              "      <th>3</th>\n",
              "      <td>0</td>\n",
              "      <td>54</td>\n",
              "      <td>1</td>\n",
              "      <td>3</td>\n",
              "      <td>1</td>\n",
              "      <td>129.0</td>\n",
              "      <td>42.5</td>\n",
              "      <td>110.0</td>\n",
              "      <td>89.1</td>\n",
              "      <td>0.0</td>\n",
              "      <td>0</td>\n",
              "      <td>0</td>\n",
              "      <td>0</td>\n",
              "      <td>3</td>\n",
              "      <td>2</td>\n",
              "      <td>1</td>\n",
              "      <td>3</td>\n",
              "    </tr>\n",
              "    <tr>\n",
              "      <th>4</th>\n",
              "      <td>0</td>\n",
              "      <td>51</td>\n",
              "      <td>3</td>\n",
              "      <td>2</td>\n",
              "      <td>1</td>\n",
              "      <td>122.0</td>\n",
              "      <td>37.0</td>\n",
              "      <td>113.0</td>\n",
              "      <td>81.3</td>\n",
              "      <td>0.0</td>\n",
              "      <td>0</td>\n",
              "      <td>0</td>\n",
              "      <td>0</td>\n",
              "      <td>2</td>\n",
              "      <td>1</td>\n",
              "      <td>1</td>\n",
              "      <td>2</td>\n",
              "    </tr>\n",
              "  </tbody>\n",
              "</table>\n",
              "</div>"
            ],
            "text/plain": [
              "   cvd_4types  age_s1  race  educat  ...  bend25  happy25  tired25  hlthlm25\n",
              "0           0      54     1       2  ...       1        2        3         4\n",
              "1           0      56     3       2  ...       2        2        1         3\n",
              "2           0      54     1       3  ...       3        2        6         4\n",
              "3           0      54     1       3  ...       3        2        1         3\n",
              "4           0      51     3       2  ...       2        1        1         2\n",
              "\n",
              "[5 rows x 17 columns]"
            ]
          },
          "metadata": {
            "tags": []
          },
          "execution_count": 3
        }
      ]
    },
    {
      "cell_type": "markdown",
      "metadata": {
        "id": "lI9Ual4QTue2"
      },
      "source": [
        "### **Part 1: Build the Model**"
      ]
    },
    {
      "cell_type": "code",
      "metadata": {
        "id": "bnhlqsR2Sf9l",
        "colab": {
          "base_uri": "https://localhost:8080/",
          "height": 202
        },
        "outputId": "56dcb552-eff1-4ccf-fb38-2ae068ebf0c3"
      },
      "source": [
        "y = df.cvd_4types\t\n",
        "X = df.drop('cvd_4types', axis= 1) # drop record\n",
        "X_train, X_test, y_train, y_test = train_test_split(X, y, random_state=101)\n",
        "solvers = ['newton-cg', 'lbfgs', 'liblinear', 'sag', 'saga']\n",
        "metrics = [accuracy_score, roc_auc_score, recall_score, precision_score, f1_score]\n",
        "columns = [i.__name__ for i in metrics] \n",
        "models = pd.DataFrame(columns=columns, index=solvers)\n",
        "for solver, row in zip(solvers, range(len(models))):\n",
        "    clf = LogisticRegression(\n",
        "        random_state=101,\n",
        "        C=1,\n",
        "        solver=solver, \n",
        "        max_iter=4000)\n",
        "    clf.fit(X_train, y_train)\n",
        "    y_pred = clf.predict(X_test)\n",
        "    scores = [score(y_test, y_pred) for score in metrics]\n",
        "    models.iloc[row] = scores\n",
        "models"
      ],
      "execution_count": 9,
      "outputs": [
        {
          "output_type": "execute_result",
          "data": {
            "text/html": [
              "<div>\n",
              "<style scoped>\n",
              "    .dataframe tbody tr th:only-of-type {\n",
              "        vertical-align: middle;\n",
              "    }\n",
              "\n",
              "    .dataframe tbody tr th {\n",
              "        vertical-align: top;\n",
              "    }\n",
              "\n",
              "    .dataframe thead th {\n",
              "        text-align: right;\n",
              "    }\n",
              "</style>\n",
              "<table border=\"1\" class=\"dataframe\">\n",
              "  <thead>\n",
              "    <tr style=\"text-align: right;\">\n",
              "      <th></th>\n",
              "      <th>accuracy_score</th>\n",
              "      <th>roc_auc_score</th>\n",
              "      <th>recall_score</th>\n",
              "      <th>precision_score</th>\n",
              "      <th>f1_score</th>\n",
              "    </tr>\n",
              "  </thead>\n",
              "  <tbody>\n",
              "    <tr>\n",
              "      <th>newton-cg</th>\n",
              "      <td>0.70037</td>\n",
              "      <td>0.675787</td>\n",
              "      <td>0.858696</td>\n",
              "      <td>0.689354</td>\n",
              "      <td>0.764763</td>\n",
              "    </tr>\n",
              "    <tr>\n",
              "      <th>lbfgs</th>\n",
              "      <td>0.701603</td>\n",
              "      <td>0.677211</td>\n",
              "      <td>0.858696</td>\n",
              "      <td>0.690559</td>\n",
              "      <td>0.765504</td>\n",
              "    </tr>\n",
              "    <tr>\n",
              "      <th>liblinear</th>\n",
              "      <td>0.697904</td>\n",
              "      <td>0.672938</td>\n",
              "      <td>0.858696</td>\n",
              "      <td>0.686957</td>\n",
              "      <td>0.763285</td>\n",
              "    </tr>\n",
              "    <tr>\n",
              "      <th>sag</th>\n",
              "      <td>0.680641</td>\n",
              "      <td>0.655695</td>\n",
              "      <td>0.841304</td>\n",
              "      <td>0.675393</td>\n",
              "      <td>0.749274</td>\n",
              "    </tr>\n",
              "    <tr>\n",
              "      <th>saga</th>\n",
              "      <td>0.683107</td>\n",
              "      <td>0.658881</td>\n",
              "      <td>0.83913</td>\n",
              "      <td>0.678383</td>\n",
              "      <td>0.750243</td>\n",
              "    </tr>\n",
              "  </tbody>\n",
              "</table>\n",
              "</div>"
            ],
            "text/plain": [
              "          accuracy_score roc_auc_score recall_score precision_score  f1_score\n",
              "newton-cg        0.70037      0.675787     0.858696        0.689354  0.764763\n",
              "lbfgs           0.701603      0.677211     0.858696        0.690559  0.765504\n",
              "liblinear       0.697904      0.672938     0.858696        0.686957  0.763285\n",
              "sag             0.680641      0.655695     0.841304        0.675393  0.749274\n",
              "saga            0.683107      0.658881      0.83913        0.678383  0.750243"
            ]
          },
          "metadata": {
            "tags": []
          },
          "execution_count": 9
        }
      ]
    },
    {
      "cell_type": "markdown",
      "metadata": {
        "id": "uTzvzGiRT-cr"
      },
      "source": [
        "### **Part 2: Display Feature Importance**"
      ]
    },
    {
      "cell_type": "code",
      "metadata": {
        "colab": {
          "base_uri": "https://localhost:8080/"
        },
        "id": "aEzRQllxUBMJ",
        "outputId": "c764c6fd-ebb8-43b0-b2c5-d2ccfbc12b43"
      },
      "source": [
        "clf = LogisticRegression(\n",
        "        random_state=101,\n",
        "        C=1,\n",
        "        solver='newton-cg', \n",
        "        max_iter=4000)\n",
        "clf.fit(X_train, y_train)\n",
        "# Display coefficients\n",
        "results = pd.Series(clf.coef_[0]*np.std(X_train, 0), index=[col for col in df.iloc[:,1:].columns])\n",
        "results.sort_values(ascending=False) # sort by importance"
      ],
      "execution_count": 10,
      "outputs": [
        {
          "output_type": "execute_result",
          "data": {
            "text/plain": [
              "waist           1.129035\n",
              "educat          0.198694\n",
              "parrptdiab      0.130142\n",
              "tired25         0.114620\n",
              "srhype          0.064611\n",
              "bend25          0.052177\n",
              "cgpkyr          0.007714\n",
              "age_s1         -0.004997\n",
              "tea15          -0.042736\n",
              "happy25        -0.090900\n",
              "mstat          -0.125747\n",
              "neck20         -0.199337\n",
              "av_weight_kg   -0.205163\n",
              "race           -0.298305\n",
              "hlthlm25       -0.401776\n",
              "hip            -0.611633\n",
              "dtype: float64"
            ]
          },
          "metadata": {
            "tags": []
          },
          "execution_count": 10
        }
      ]
    },
    {
      "cell_type": "markdown",
      "metadata": {
        "id": "g7X4D093UOtK"
      },
      "source": [
        "### **Part 3: ROC Curve**"
      ]
    },
    {
      "cell_type": "code",
      "metadata": {
        "colab": {
          "base_uri": "https://localhost:8080/",
          "height": 294
        },
        "id": "QqbdCOL2URyy",
        "outputId": "0a3b1612-81e8-4b79-c105-c8255a80c695"
      },
      "source": [
        "logit_roc_auc = roc_auc_score(y_test, clf.predict(X_test))\n",
        "fpr, tpr, thresholds = roc_curve(y_test, clf.predict_proba(X_test)[:,1])\n",
        "plt.figure()\n",
        "plt.plot(fpr, tpr, label='Logistic Regression (area = %0.2f)' % logit_roc_auc)\n",
        "plt.plot([0, 1], [0, 1],'r--')\n",
        "plt.xlim([0.0, 1.0])\n",
        "plt.ylim([0.0, 1.05])\n",
        "plt.xlabel('False Positive Rate')\n",
        "plt.ylabel('True Positive Rate')\n",
        "plt.title('Receiver Operating Characteristic')\n",
        "plt.legend(loc=\"lower right\")\n",
        "plt.savefig('Log_ROC')\n",
        "plt.show() # plot roc curve"
      ],
      "execution_count": 12,
      "outputs": [
        {
          "output_type": "display_data",
          "data": {
            "image/png": "[encoded data removed]",
            "text/plain": [
              "<Figure size 432x288 with 1 Axes>"
            ]
          },
          "metadata": {
            "tags": [],
            "needs_background": "light"
          }
        }
      ]
    }
  ]
}